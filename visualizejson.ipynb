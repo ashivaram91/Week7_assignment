{
 "cells": [
  {
   "cell_type": "markdown",
   "metadata": {},
   "source": [
    "## Visualizing json files using matplotlib"
   ]
  },
  {
   "cell_type": "markdown",
   "metadata": {},
   "source": [
    "### By Akshay Shivaram"
   ]
  },
  {
   "cell_type": "markdown",
   "metadata": {},
   "source": [
    "#### Importing libraries"
   ]
  },
  {
   "cell_type": "code",
   "execution_count": 1,
   "metadata": {},
   "outputs": [],
   "source": [
    "import sys\n",
    "sys.path += ['../..']\n",
    "\n",
    "import os\n",
    "\n",
    "import tarfile\n",
    "import json\n",
    "\n",
    "import matplotlib.pyplot as plt"
   ]
  },
  {
   "cell_type": "markdown",
   "metadata": {},
   "source": [
    "#### Intializing variables"
   ]
  },
  {
   "cell_type": "code",
   "execution_count": 2,
   "metadata": {},
   "outputs": [],
   "source": [
    "PATH_TO_WW2_MAPS = '/home/vagrant/work/week6/cwl-data/maps/ww2/'\n",
    "\n",
    "MAP_IMAGES = {\n",
    "    'Aachen': 'aachen.png',\n",
    "    'Ardennes Forest': 'ardennes_forest.png',\n",
    "    'Flak Tower': 'flaktower.png',\n",
    "    'Gibraltar': 'gibraltar.png',\n",
    "    'London Docks': 'london_docks.png',\n",
    "    'Sainte Marie du Mont': 'sainte_marie_du_mont.png' ,\n",
    "    'USS Texas': 'uss_texas.png',\n",
    "    'Valkyrie': 'valkyrie.png'\n",
    "}"
   ]
  },
  {
   "cell_type": "markdown",
   "metadata": {},
   "source": [
    "### Read in all json files and create figure to visualize spawn (blue dots) and deaths (red dots) on the the game map"
   ]
  },
  {
   "cell_type": "code",
   "execution_count": 3,
   "metadata": {},
   "outputs": [
    {
     "name": "stdout",
     "output_type": "stream",
     "text": [
      "ERROR in file:structured-2018-03-11-atlanta/structured-1520731201-missing-champs-losers-1-3-map-1.json file consists of map name as ?. There are no images for this map. This is BAD data and this file is skipped.\n",
      "All the .png files for the corresponding json files are created. This .png file shows the spawns and deaths occured in the game.\n"
     ]
    },
    {
     "data": {
      "image/png": "[encoded data removed]",
      "text/plain": [
       "<Figure size 1080x1080 with 1 Axes>"
      ]
     },
     "metadata": {
      "needs_background": "light"
     },
     "output_type": "display_data"
    }
   ],
   "source": [
    "#creating figure\n",
    "fig, ax = plt.subplots(1,1)\n",
    "fig.set_figheight(15)\n",
    "fig.set_figwidth(15)\n",
    "\n",
    "for foldername in os.listdir('./'):\n",
    "    if foldername.startswith(\"structured\"):\n",
    "        for filename in os.listdir('{}/'.format(foldername)):\n",
    "            if filename.endswith(\".json\"):\n",
    "                fullfilepath = os.path.join(foldername,filename)\n",
    "                \n",
    "                # load match data and plot match events\n",
    "                with open(fullfilepath, 'r') as match_file:\n",
    "                # get match data\n",
    "                    match = json.load(match_file)\n",
    "                \n",
    "                death_pos, spawn_pos = {'x': [], 'y': []}, {'x': [], 'y': []}\n",
    "\n",
    "                # get pos data\n",
    "                events = match['events']\n",
    "                for evt in events:\n",
    "                    if evt['type'] == 'spawn':\n",
    "                        spawn_pos['x'].append( evt['data']['pos']['x'] )\n",
    "                        spawn_pos['y'].append( evt['data']['pos']['y'] )\n",
    "                    if evt['type'] == 'death':\n",
    "                        death_pos['x'].append( evt['data']['pos']['x'] )\n",
    "                        death_pos['y'].append( evt['data']['pos']['y'] )\n",
    "\n",
    "                # get map image\n",
    "                try:\n",
    "                    map_file_name = PATH_TO_WW2_MAPS + MAP_IMAGES[match['map']]\n",
    "                    map_image = plt.imread(map_file_name)\n",
    "                            \n",
    "                \n",
    "                    # plot map\n",
    "                    ax.imshow(map_image)\n",
    "                    ax.set_facecolor((210/255.0, 210/255.0, 210/255.0))\n",
    "                    # plot spawns\n",
    "                    ax.scatter(spawn_pos['x'], spawn_pos['y'], color='blue')\n",
    "                    # plot death events\n",
    "                    ax.scatter(death_pos['x'], death_pos['y'], color='red')\n",
    "                    # set title\n",
    "                    ax.set_title('{} ({})'.format(match['map'], match['mode']))\n",
    "                    #save figure in disk\n",
    "                    plt.savefig('{}/{}-{}-{}'.format(foldername,\"structured\",match['end_time_s'], match['id']))\n",
    "                    # clear the current axes\n",
    "                    plt.cla()\n",
    "                except KeyError:\n",
    "                    print('ERROR in file:' + os.path.join(foldername,filename) + ' file consists of map name as ' + match['map'] + '. There are no images for this map. This is BAD data and this file is skipped.')\n",
    "                \n",
    "print(\"All the .png files for the corresponding json files are created. This .png file shows the spawns and deaths occured in the game.\")"
   ]
  },
  {
   "cell_type": "code",
   "execution_count": null,
   "metadata": {},
   "outputs": [],
   "source": []
  }
 ],
 "metadata": {
  "kernelspec": {
   "display_name": "Python 3",
   "language": "python",
   "name": "python3"
  },
  "language_info": {
   "codemirror_mode": {
    "name": "ipython",
    "version": 3
   },
   "file_extension": ".py",
   "mimetype": "text/x-python",
   "name": "python",
   "nbconvert_exporter": "python",
   "pygments_lexer": "ipython3",
   "version": "3.7.2"
  }
 },
 "nbformat": 4,
 "nbformat_minor": 2
}
